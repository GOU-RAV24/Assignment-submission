{
  "nbformat": 4,
  "nbformat_minor": 0,
  "metadata": {
    "colab": {
      "name": "Python.ipynb",
      "provenance": [],
      "collapsed_sections": [],
      "authorship_tag": "ABX9TyNvV4MOIqIn3KWm3zbG26gB",
      "include_colab_link": true
    },
    "kernelspec": {
      "name": "python3",
      "display_name": "Python 3"
    },
    "language_info": {
      "name": "python"
    }
  },
  "cells": [
    {
      "cell_type": "markdown",
      "metadata": {
        "id": "view-in-github",
        "colab_type": "text"
      },
      "source": [
        "<a href=\"https://colab.research.google.com/github/GOU-RAV24/Assignment-submission/blob/main/Python%20Day%203.ipynb\" target=\"_parent\"><img src=\"https://colab.research.google.com/assets/colab-badge.svg\" alt=\"Open In Colab\"/></a>"
      ]
    },
    {
      "cell_type": "code",
      "source": [
        "x = input(\"Enter the word in lower case letters\")\n",
        "z = input(\"Enter the character\")\n",
        "y = ['h','o','c']\n",
        "if z in y :\n",
        "  print('You won the lottery')\n",
        "else:\n",
        "  print('Sorry! better luck next time')"
      ],
      "metadata": {
        "id": "bE6U0w90fNG4",
        "colab": {
          "base_uri": "https://localhost:8080/"
        },
        "outputId": "a86d1d4d-8b7f-4fe2-e1f4-5c50614091f6"
      },
      "execution_count": 3,
      "outputs": [
        {
          "output_type": "stream",
          "name": "stdout",
          "text": [
            "Enter the word in lower case lettersabcdefghihhhh\n",
            "Enter the characterh\n",
            "You won the lottery\n"
          ]
        }
      ]
    },
    {
      "cell_type": "code",
      "source": [
        "s = input(\"Enter a string : \").lower()\n",
        "d = {}\n",
        "for i in s :\n",
        "  d[i] = d.get(i,0)+1\n",
        "  print(d)\n",
        "  max_key = max(d,key = d.get)\n",
        "  print (max_key)\n",
        "  "
      ],
      "metadata": {
        "colab": {
          "base_uri": "https://localhost:8080/"
        },
        "id": "L5RSlVe3tLXt",
        "outputId": "5e5fd6da-b173-4fa2-b69f-0cef0ea0bdb6"
      },
      "execution_count": 5,
      "outputs": [
        {
          "output_type": "stream",
          "name": "stdout",
          "text": [
            "Enter a string : a,b,c,d\n",
            "{'a': 1}\n",
            "a\n",
            "{'a': 1, ',': 1}\n",
            "a\n",
            "{'a': 1, ',': 1, 'b': 1}\n",
            "a\n",
            "{'a': 1, ',': 2, 'b': 1}\n",
            ",\n",
            "{'a': 1, ',': 2, 'b': 1, 'c': 1}\n",
            ",\n",
            "{'a': 1, ',': 3, 'b': 1, 'c': 1}\n",
            ",\n",
            "{'a': 1, ',': 3, 'b': 1, 'c': 1, 'd': 1}\n",
            ",\n"
          ]
        }
      ]
    }
  ]
}