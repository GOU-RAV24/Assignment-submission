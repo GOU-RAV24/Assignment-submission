{
  "nbformat": 4,
  "nbformat_minor": 0,
  "metadata": {
    "colab": {
      "name": "Python.ipynb",
      "provenance": [],
      "collapsed_sections": [],
      "authorship_tag": "ABX9TyNj347ludoJa1JOjxQ8RE3i",
      "include_colab_link": true
    },
    "kernelspec": {
      "name": "python3",
      "display_name": "Python 3"
    },
    "language_info": {
      "name": "python"
    }
  },
  "cells": [
    {
      "cell_type": "markdown",
      "metadata": {
        "id": "view-in-github",
        "colab_type": "text"
      },
      "source": [
        "<a href=\"https://colab.research.google.com/github/GOU-RAV24/Assignment-submission/blob/main/Python%20Day%202.ipynb\" target=\"_parent\"><img src=\"https://colab.research.google.com/assets/colab-badge.svg\" alt=\"Open In Colab\"/></a>"
      ]
    },
    {
      "cell_type": "code",
      "source": [
        "x = input(\"Enter the word in lower case letters\")\n",
        "z = input(\"Enter the character\")\n",
        "y = ['h','o','c']\n",
        "if z in y :\n",
        "  print('You won the lottery')\n",
        "else:\n",
        "  print('Sorry! better luck next time')"
      ],
      "metadata": {
        "id": "bE6U0w90fNG4",
        "colab": {
          "base_uri": "https://localhost:8080/"
        },
        "outputId": "4f0975b2-0dd7-419c-ecc8-f36a1c9b8c25"
      },
      "execution_count": 2,
      "outputs": [
        {
          "output_type": "stream",
          "name": "stdout",
          "text": [
            "Enter the word in lower case lettersmbhabcdef\n",
            "Enter the characterh\n",
            "You won the lottery\n"
          ]
        }
      ]
    }
  ]
}